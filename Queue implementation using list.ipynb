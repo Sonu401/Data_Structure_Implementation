{
 "cells": [
  {
   "cell_type": "code",
   "execution_count": 5,
   "id": "923aeb58-6c30-4292-8398-e1d3e4e7c3c5",
   "metadata": {},
   "outputs": [],
   "source": [
    "class Queue:\n",
    "    def __init__(self):\n",
    "        self.__list=[]\n",
    "        self.__count=0\n",
    "        self.__front=0\n",
    "    def enqueue(self,ele):\n",
    "        self.__list.append(ele)\n",
    "        self.__count+=1\n",
    "    def dequeue(self):\n",
    "        if self.__count==0:\n",
    "            return -1\n",
    "        ele=self.__list[self.__front]\n",
    "        self.__front+=1\n",
    "        self.__count-=1\n",
    "        return ele\n",
    "    def front(self):\n",
    "        if self.__count==0:\n",
    "            return -1\n",
    "        ele=self.__list[self.__front]\n",
    "        return ele\n",
    "    def size(self):\n",
    "        return self.__count\n",
    "    def Isempty(self):\n",
    "        return self.__size()==0\n",
    "        "
   ]
  },
  {
   "cell_type": "code",
   "execution_count": 6,
   "id": "271a7cb2-74f7-484c-ba28-8b60d2343029",
   "metadata": {},
   "outputs": [],
   "source": [
    "q=Queue()"
   ]
  },
  {
   "cell_type": "code",
   "execution_count": 7,
   "id": "6155a671-4ea3-4d10-8059-4bd233de0e4d",
   "metadata": {},
   "outputs": [],
   "source": [
    "q.enqueue(10)"
   ]
  },
  {
   "cell_type": "code",
   "execution_count": 8,
   "id": "dedb31f0-4511-4bbb-b23d-64983a37b232",
   "metadata": {},
   "outputs": [],
   "source": [
    "q.enqueue(20)"
   ]
  },
  {
   "cell_type": "code",
   "execution_count": 9,
   "id": "d31e7e1b-6762-40f6-a97c-75751f082366",
   "metadata": {},
   "outputs": [],
   "source": [
    "q.enqueue(30)"
   ]
  },
  {
   "cell_type": "code",
   "execution_count": 10,
   "id": "a7aeab7a-9bd5-4308-af9d-b100097c8995",
   "metadata": {},
   "outputs": [
    {
     "data": {
      "text/plain": [
       "10"
      ]
     },
     "execution_count": 10,
     "metadata": {},
     "output_type": "execute_result"
    }
   ],
   "source": [
    "q.dequeue()"
   ]
  },
  {
   "cell_type": "code",
   "execution_count": 11,
   "id": "77756f75-a356-494c-954b-3b4c470e4032",
   "metadata": {},
   "outputs": [
    {
     "data": {
      "text/plain": [
       "20"
      ]
     },
     "execution_count": 11,
     "metadata": {},
     "output_type": "execute_result"
    }
   ],
   "source": [
    "q.dequeue()"
   ]
  },
  {
   "cell_type": "code",
   "execution_count": 12,
   "id": "c1e5c46b-5629-49a4-838f-72460dd001f4",
   "metadata": {},
   "outputs": [
    {
     "data": {
      "text/plain": [
       "30"
      ]
     },
     "execution_count": 12,
     "metadata": {},
     "output_type": "execute_result"
    }
   ],
   "source": [
    "q.dequeue()"
   ]
  },
  {
   "cell_type": "code",
   "execution_count": 13,
   "id": "7d35498b-5ebe-46f9-b773-825163297f4e",
   "metadata": {},
   "outputs": [
    {
     "data": {
      "text/plain": [
       "-1"
      ]
     },
     "execution_count": 13,
     "metadata": {},
     "output_type": "execute_result"
    }
   ],
   "source": [
    "q.dequeue()"
   ]
  },
  {
   "cell_type": "code",
   "execution_count": 18,
   "id": "256f5577-b6cd-40de-9954-c8566355df7d",
   "metadata": {},
   "outputs": [],
   "source": [
    "#inbuilt stack and queue\n",
    "#stack==>list\n",
    "import queue"
   ]
  },
  {
   "cell_type": "code",
   "execution_count": 19,
   "id": "3eb17f75-9a8c-4bfa-b33d-85a8647103c6",
   "metadata": {},
   "outputs": [],
   "source": [
    "q=queue.Queue()"
   ]
  },
  {
   "cell_type": "code",
   "execution_count": 20,
   "id": "486cc621-9557-4466-9fef-a872972f6c07",
   "metadata": {},
   "outputs": [],
   "source": [
    "q.put(10)\n",
    "q.put(20)\n",
    "q.put(30)\n",
    "q.put(40)\n",
    "q.put(50)"
   ]
  },
  {
   "cell_type": "code",
   "execution_count": 21,
   "id": "083883eb-bcea-46e9-af7f-1386832d88b2",
   "metadata": {},
   "outputs": [
    {
     "name": "stdout",
     "output_type": "stream",
     "text": [
      "10\n",
      "20\n",
      "30\n",
      "40\n",
      "50\n"
     ]
    }
   ],
   "source": [
    "while q.empty() is False :\n",
    "    print(q.get())"
   ]
  },
  {
   "cell_type": "code",
   "execution_count": null,
   "id": "70e5e862-0fb7-48a0-8605-e9cb248c09d1",
   "metadata": {},
   "outputs": [],
   "source": []
  }
 ],
 "metadata": {
  "kernelspec": {
   "display_name": "Python 3 (ipykernel)",
   "language": "python",
   "name": "python3"
  },
  "language_info": {
   "codemirror_mode": {
    "name": "ipython",
    "version": 3
   },
   "file_extension": ".py",
   "mimetype": "text/x-python",
   "name": "python",
   "nbconvert_exporter": "python",
   "pygments_lexer": "ipython3",
   "version": "3.10.8"
  }
 },
 "nbformat": 4,
 "nbformat_minor": 5
}
