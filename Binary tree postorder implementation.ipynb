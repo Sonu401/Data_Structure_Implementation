{
 "cells": [
  {
   "cell_type": "code",
   "execution_count": 1,
   "id": "fddf544e-806f-41ff-b8ad-975e0782ca42",
   "metadata": {},
   "outputs": [],
   "source": [
    "class BTNode:\n",
    "    def __init__(self,data):\n",
    "        self.data=data\n",
    "        self.Left=None\n",
    "        self.Right=None\n",
    "n1=BTNode(10)\n",
    "n2=BTNode(20)\n",
    "n3=BTNode(30)\n",
    "n1.Left=n2\n",
    "n1.Right=n3\n",
    "n4=BTNode(40)\n",
    "n5=BTNode(50)\n",
    "n6=BTNode(60)\n",
    "n7=BTNode(70)\n",
    "n2.Left=n4\n",
    "n2.Right=n5\n",
    "n3.Left=n6\n",
    "n3.Right=n7"
   ]
  },
  {
   "cell_type": "code",
   "execution_count": 2,
   "id": "6a74dcc4-ab21-4eb0-8a1f-24eb6c60f9f1",
   "metadata": {},
   "outputs": [],
   "source": [
    "def Postorder(root):\n",
    "    if root is None:\n",
    "        return\n",
    "    Postorder(root.Left)\n",
    "    Postorder(root.Right)\n",
    "    print(root.data)"
   ]
  },
  {
   "cell_type": "code",
   "execution_count": 3,
   "id": "f620fca0-4acb-4891-939f-c28e8745659a",
   "metadata": {},
   "outputs": [
    {
     "name": "stdout",
     "output_type": "stream",
     "text": [
      "40\n",
      "50\n",
      "20\n",
      "60\n",
      "70\n",
      "30\n",
      "10\n"
     ]
    }
   ],
   "source": [
    " Postorder(n1)"
   ]
  },
  {
   "cell_type": "code",
   "execution_count": null,
   "id": "f24ca848-7760-4d8d-9ff8-27fea8acdf18",
   "metadata": {},
   "outputs": [],
   "source": []
  }
 ],
 "metadata": {
  "kernelspec": {
   "display_name": "Python 3 (ipykernel)",
   "language": "python",
   "name": "python3"
  },
  "language_info": {
   "codemirror_mode": {
    "name": "ipython",
    "version": 3
   },
   "file_extension": ".py",
   "mimetype": "text/x-python",
   "name": "python",
   "nbconvert_exporter": "python",
   "pygments_lexer": "ipython3",
   "version": "3.10.8"
  }
 },
 "nbformat": 4,
 "nbformat_minor": 5
}
