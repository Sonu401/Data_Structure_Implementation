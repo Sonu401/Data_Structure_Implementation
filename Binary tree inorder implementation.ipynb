{
 "cells": [
  {
   "cell_type": "code",
   "execution_count": 5,
   "id": "c3585d3d-cafd-4e04-bae3-e1288010dc25",
   "metadata": {},
   "outputs": [],
   "source": [
    "class BTNode:\n",
    "    def __init__(self,data):\n",
    "        self.data=data\n",
    "        self.Left=None\n",
    "        self.Right=None\n",
    "n1=BTNode(10)\n",
    "n2=BTNode(20)\n",
    "n3=BTNode(30)\n",
    "n1.Left=n2\n",
    "n1.Right=n3\n",
    "n4=BTNode(40)\n",
    "n5=BTNode(50)\n",
    "n6=BTNode(60)\n",
    "n7=BTNode(70)\n",
    "n2.Left=n4\n",
    "n2.Right=n5\n",
    "n3.Left=n6\n",
    "n3.Right=n7"
   ]
  },
  {
   "cell_type": "code",
   "execution_count": 6,
   "id": "c7f26786-058c-4f5a-bc93-173f4a00e104",
   "metadata": {},
   "outputs": [],
   "source": [
    "def Inorder(root):\n",
    "    if root is None:\n",
    "        return\n",
    "    Inorder(root.Left)\n",
    "    print(root.data)\n",
    "    Inorder(root.Right)"
   ]
  },
  {
   "cell_type": "code",
   "execution_count": 7,
   "id": "c8310531-68b8-4964-be4c-251376b7675e",
   "metadata": {},
   "outputs": [
    {
     "name": "stdout",
     "output_type": "stream",
     "text": [
      "40\n",
      "20\n",
      "50\n",
      "10\n",
      "60\n",
      "30\n",
      "70\n"
     ]
    }
   ],
   "source": [
    "Inorder(n1)\n"
   ]
  }
 ],
 "metadata": {
  "kernelspec": {
   "display_name": "Python 3 (ipykernel)",
   "language": "python",
   "name": "python3"
  },
  "language_info": {
   "codemirror_mode": {
    "name": "ipython",
    "version": 3
   },
   "file_extension": ".py",
   "mimetype": "text/x-python",
   "name": "python",
   "nbconvert_exporter": "python",
   "pygments_lexer": "ipython3",
   "version": "3.10.8"
  }
 },
 "nbformat": 4,
 "nbformat_minor": 5
}
