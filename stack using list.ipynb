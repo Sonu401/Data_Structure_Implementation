{
 "cells": [
  {
   "cell_type": "code",
   "execution_count": 5,
   "id": "10a96c32-bd3a-4f1c-bf55-ef2638a4360e",
   "metadata": {},
   "outputs": [],
   "source": [
    "class stack():\n",
    "    def __init__(self):\n",
    "        self.__list=[]\n",
    "    def push(self,ele):\n",
    "        self.__list.append(ele)\n",
    "    def pop(self):\n",
    "         if self.Isempty():\n",
    "            print(\"empty stack\")\n",
    "            return\n",
    "         return self.__list.pop()\n",
    "    def top (self):\n",
    "        if self.Isempty():\n",
    "            print(\"no element\")\n",
    "            return\n",
    "        return self.__list[-1]\n",
    "    def size(self):\n",
    "         return len(self.__list)\n",
    "    def Isempty (self):\n",
    "        return self.size()==0"
   ]
  },
  {
   "cell_type": "code",
   "execution_count": 6,
   "id": "7bb11cf6-2bf0-4215-a2e2-c0d2d3f545f5",
   "metadata": {},
   "outputs": [],
   "source": [
    "s1=stack()"
   ]
  },
  {
   "cell_type": "code",
   "execution_count": 7,
   "id": "f24beab2-ae5e-4ae8-966f-a7bd450ca4cf",
   "metadata": {},
   "outputs": [],
   "source": [
    "s1.push(10)"
   ]
  },
  {
   "cell_type": "code",
   "execution_count": 8,
   "id": "da2f5f68-5ce5-4f1a-846d-ca7fcdd38ab8",
   "metadata": {},
   "outputs": [],
   "source": [
    "s1.push(20)"
   ]
  },
  {
   "cell_type": "code",
   "execution_count": 9,
   "id": "c7867373-3581-4ec7-aa7f-81eda5f8cb6f",
   "metadata": {},
   "outputs": [],
   "source": [
    "s1.push(30)"
   ]
  },
  {
   "cell_type": "code",
   "execution_count": 10,
   "id": "3ef5f05c-b267-4e3d-bfec-ef1d73550fe9",
   "metadata": {},
   "outputs": [
    {
     "name": "stdout",
     "output_type": "stream",
     "text": [
      "30\n"
     ]
    }
   ],
   "source": [
    "print(s1.pop())"
   ]
  },
  {
   "cell_type": "code",
   "execution_count": 11,
   "id": "41ed44de-c955-4f60-a143-50d269c320e4",
   "metadata": {},
   "outputs": [
    {
     "name": "stdout",
     "output_type": "stream",
     "text": [
      "20\n"
     ]
    }
   ],
   "source": [
    "print(s1.pop())"
   ]
  },
  {
   "cell_type": "code",
   "execution_count": 12,
   "id": "93963048-978d-4ba6-a5ac-5cb0aee32f9c",
   "metadata": {},
   "outputs": [
    {
     "name": "stdout",
     "output_type": "stream",
     "text": [
      "10\n"
     ]
    }
   ],
   "source": [
    "print(s1.pop())"
   ]
  },
  {
   "cell_type": "code",
   "execution_count": 13,
   "id": "9f7a2ec2-ebd4-4d3a-ad49-b7481b94cd32",
   "metadata": {},
   "outputs": [
    {
     "name": "stdout",
     "output_type": "stream",
     "text": [
      "empty stack\n",
      "None\n"
     ]
    }
   ],
   "source": [
    "print(s1.pop())"
   ]
  },
  {
   "cell_type": "code",
   "execution_count": null,
   "id": "d023d39a-0212-4e12-a6c3-54edcacb4849",
   "metadata": {},
   "outputs": [],
   "source": []
  }
 ],
 "metadata": {
  "kernelspec": {
   "display_name": "Python 3 (ipykernel)",
   "language": "python",
   "name": "python3"
  },
  "language_info": {
   "codemirror_mode": {
    "name": "ipython",
    "version": 3
   },
   "file_extension": ".py",
   "mimetype": "text/x-python",
   "name": "python",
   "nbconvert_exporter": "python",
   "pygments_lexer": "ipython3",
   "version": "3.10.8"
  }
 },
 "nbformat": 4,
 "nbformat_minor": 5
}
